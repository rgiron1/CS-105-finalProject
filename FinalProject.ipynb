{
 "cells": [
  {
   "cell_type": "code",
   "execution_count": null,
   "id": "b5d3a9e6-c635-4302-8c8c-5106674a6de0",
   "metadata": {},
   "outputs": [],
   "source": [
    "%matplotlib inline\n",
    "import pandas as pd\n",
    "import numpy as np"
   ]
  },
  {
   "cell_type": "code",
   "execution_count": null,
   "id": "2521d5cc-8f1f-4e02-80c4-69e793ba9bff",
   "metadata": {},
   "outputs": [],
   "source": [
    "df = pd.read_csv(\"ks-projects-201801.csv\")\n",
    "df = df.drop(columns=['ID', 'category','currency','usd pledged','usd_pledged_real','usd_goal_real'])\n",
    "df['state'].replace(['failed','canceled'], 0, inplace=True)\n",
    "df['state'].replace(['successful','live'], 1, inplace=True)\n",
    "df"
   ]
  },
  {
   "cell_type": "code",
   "execution_count": null,
   "id": "989c9285-9db2-406f-ae67-33dd551a76d7",
   "metadata": {},
   "outputs": [],
   "source": [
    "df['goal rate'] = df['pledged']/df['goal']\n",
    "df"
   ]
  },
  {
   "cell_type": "code",
   "execution_count": null,
   "id": "8487c993-a34c-4d9b-ac42-627d87004b23",
   "metadata": {},
   "outputs": [],
   "source": [
    "fail_df = df[df[\"state\"] == 0]\n",
    "fail_df"
   ]
  },
  {
   "cell_type": "code",
   "execution_count": null,
   "id": "3c642cf6-6051-4507-b966-34394491f0a9",
   "metadata": {},
   "outputs": [],
   "source": [
    "count = fail_df.main_category.value_counts(normalize=True)\n",
    "print(count)\n",
    "import matplotlib.pyplot as plt\n",
    "%matplotlib inline\n",
    "plt.subplots(figsize=(26,5))\n",
    "plt.bar(count.index,count)\n",
    "plt.show()"
   ]
  },
  {
   "cell_type": "code",
   "execution_count": null,
   "id": "094d1b95-a399-4252-96a0-345415800f50",
   "metadata": {},
   "outputs": [],
   "source": [
    "success_df = df[df[\"state\"] == 1]\n",
    "success_df"
   ]
  },
  {
   "cell_type": "code",
   "execution_count": null,
   "id": "a77e3d69-fc85-4f50-b7d1-27f569ec6a2a",
   "metadata": {},
   "outputs": [],
   "source": [
    "count = success_df.main_category.value_counts(normalize=True)\n",
    "print(count)\n",
    "import matplotlib.pyplot as plt\n",
    "%matplotlib inline\n",
    "plt.subplots(figsize=(26,5))\n",
    "plt.bar(count.index,count)\n",
    "plt.show()"
   ]
  },
  {
   "cell_type": "code",
   "execution_count": null,
   "id": "8da8651e-33ec-4d0d-91b3-42142ddb2b0e",
   "metadata": {},
   "outputs": [],
   "source": [
    "\n",
    "Country_success_df = df[df[\"state\"] == 1]\n",
    "Country_success_df "
   ]
  },
  {
   "cell_type": "code",
   "execution_count": null,
   "id": "ec9f70aa-0230-465c-84bb-82183b178228",
   "metadata": {},
   "outputs": [],
   "source": [
    "count = Country_success_df.country.value_counts(normalize=True)\n",
    "print(count)\n",
    "import matplotlib.pyplot as plt\n",
    "%matplotlib inline\n",
    "plt.subplots(figsize=(26,5))\n",
    "plt.bar(count.index,count)\n",
    "plt.show()"
   ]
  },
  {
   "cell_type": "code",
   "execution_count": null,
   "id": "d645c186-8b1d-4f7b-91c4-fe9d8dca4ef6",
   "metadata": {},
   "outputs": [],
   "source": [
    "Country_fail_df = df[df[\"state\"] == 0]\n",
    "Country_fail_df "
   ]
  },
  {
   "cell_type": "code",
   "execution_count": null,
   "id": "99c169e7-93db-4f6c-b193-638033ab4b56",
   "metadata": {},
   "outputs": [],
   "source": [
    "count = Country_fail_df.country.value_counts(normalize=True)\n",
    "print(count)\n",
    "import matplotlib.pyplot as plt\n",
    "%matplotlib inline\n",
    "plt.subplots(figsize=(26,5))\n",
    "plt.bar(count.index,count)\n",
    "plt.show()"
   ]
  },
  {
   "cell_type": "code",
   "execution_count": null,
   "id": "88dea03c-b338-4505-9719-758be153c199",
   "metadata": {},
   "outputs": [],
   "source": []
  },
  {
   "cell_type": "code",
   "execution_count": null,
   "id": "ff35b7ef-9772-46c4-83ac-92dc16ffadca",
   "metadata": {},
   "outputs": [],
   "source": []
  }
 ],
 "metadata": {
  "kernelspec": {
   "display_name": "Python 3 (ipykernel)",
   "language": "python",
   "name": "python3"
  },
  "language_info": {
   "codemirror_mode": {
    "name": "ipython",
    "version": 3
   },
   "file_extension": ".py",
   "mimetype": "text/x-python",
   "name": "python",
   "nbconvert_exporter": "python",
   "pygments_lexer": "ipython3",
   "version": "3.9.7"
  }
 },
 "nbformat": 4,
 "nbformat_minor": 5
}
